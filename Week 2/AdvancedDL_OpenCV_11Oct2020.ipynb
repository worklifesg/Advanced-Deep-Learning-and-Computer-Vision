{
 "cells": [
  {
   "cell_type": "code",
   "execution_count": 1,
   "metadata": {},
   "outputs": [],
   "source": [
    "import tensorflow as tf\n",
    "import matplotlib.pyplot as plt\n",
    "import pandas as pd\n",
    "import numpy as np"
   ]
  },
  {
   "cell_type": "code",
   "execution_count": 2,
   "metadata": {},
   "outputs": [
    {
     "name": "stderr",
     "output_type": "stream",
     "text": [
      "Using TensorFlow backend.\n"
     ]
    }
   ],
   "source": [
    "from keras.layers import Input,Dense\n",
    "from keras.models import Model"
   ]
  },
  {
   "cell_type": "markdown",
   "metadata": {},
   "source": [
    "<h3> Sparse Autoencoder </h3>\n",
    "\n",
    "<h5> Adding a sparsity constraint to encoded respresentations </h5>"
   ]
  },
  {
   "cell_type": "code",
   "execution_count": 3,
   "metadata": {},
   "outputs": [],
   "source": [
    "from keras import regularizers\n",
    "\n",
    "encoding_dim = 32\n",
    "input_img = Input(shape=(784,))\n",
    "\n",
    "encoded = Dense(encoding_dim,activation='relu',\n",
    "               activity_regularizer=regularizers.l1(10e-8))(input_img) ## add a Dense layer with a L1 activity regularizer\n",
    "decoded = Dense(784,activation='sigmoid')(encoded)\n",
    "\n",
    "autoencoder = Model(input_img,decoded) #creating autoencoder model"
   ]
  },
  {
   "cell_type": "markdown",
   "metadata": {},
   "source": [
    "<h3> Create encoder model </h3>"
   ]
  },
  {
   "cell_type": "code",
   "execution_count": 4,
   "metadata": {},
   "outputs": [],
   "source": [
    "encoder = Model(input_img,encoded)"
   ]
  },
  {
   "cell_type": "markdown",
   "metadata": {},
   "source": [
    "<h3> Create decoder model </h3>"
   ]
  },
  {
   "cell_type": "code",
   "execution_count": 5,
   "metadata": {},
   "outputs": [],
   "source": [
    "encoded_input = Input(shape=(encoding_dim,)) #placeholder for encoded 32 dim input\n",
    "decoder_layer = autoencoder.layers[-1] #retreive last layer of autoencoder model , -1 as last layer\n",
    "\n",
    "decoder = Model(encoded_input,decoder_layer(encoded_input))  #decoder model, also we can use decoder = Model(encoded_input,decoded) "
   ]
  },
  {
   "cell_type": "code",
   "execution_count": 6,
   "metadata": {},
   "outputs": [],
   "source": [
    "#compile autoencoder\n",
    "autoencoder.compile(optimizer='adadelta',loss='binary_crossentropy') #compile"
   ]
  },
  {
   "cell_type": "markdown",
   "metadata": {},
   "source": [
    "<h3> Prepare input data </h3>"
   ]
  },
  {
   "cell_type": "code",
   "execution_count": 7,
   "metadata": {},
   "outputs": [],
   "source": [
    "#MNIST dataset\n",
    "\n",
    "from keras.datasets import mnist\n",
    "(x_train,_),(x_test,_) = mnist.load_data()"
   ]
  },
  {
   "cell_type": "code",
   "execution_count": 8,
   "metadata": {},
   "outputs": [
    {
     "name": "stdout",
     "output_type": "stream",
     "text": [
      "(60000, 784)\n",
      "(10000, 784)\n"
     ]
    }
   ],
   "source": [
    "#Normalization between 0,1\n",
    "\n",
    "x_train = x_train.astype('float32')/255.\n",
    "x_test = x_test.astype('float32')/255.\n",
    "\n",
    "x_train = x_train.reshape((len(x_train),np.prod(x_train.shape[1:])))\n",
    "x_test = x_test.reshape((len(x_test),np.prod(x_test.shape[1:])))\n",
    "\n",
    "print(x_train.shape)\n",
    "print(x_test.shape)"
   ]
  },
  {
   "cell_type": "markdown",
   "metadata": {},
   "source": [
    "<h3> Train autoencoder </h3>"
   ]
  },
  {
   "cell_type": "code",
   "execution_count": 9,
   "metadata": {},
   "outputs": [
    {
     "name": "stdout",
     "output_type": "stream",
     "text": [
      "Train on 60000 samples, validate on 10000 samples\n",
      "Epoch 1/100\n",
      "60000/60000 [==============================] - 1s 16us/step - loss: 0.3655 - val_loss: 0.2739\n",
      "Epoch 2/100\n",
      "60000/60000 [==============================] - 1s 11us/step - loss: 0.2671 - val_loss: 0.2564\n",
      "Epoch 3/100\n",
      "60000/60000 [==============================] - 1s 11us/step - loss: 0.2452 - val_loss: 0.2315\n",
      "Epoch 4/100\n",
      "60000/60000 [==============================] - 1s 11us/step - loss: 0.2233 - val_loss: 0.2130\n",
      "Epoch 5/100\n",
      "60000/60000 [==============================] - 1s 11us/step - loss: 0.2086 - val_loss: 0.2013\n",
      "Epoch 6/100\n",
      "60000/60000 [==============================] - 1s 11us/step - loss: 0.1984 - val_loss: 0.1925\n",
      "Epoch 7/100\n",
      "60000/60000 [==============================] - 1s 11us/step - loss: 0.1904 - val_loss: 0.1851\n",
      "Epoch 8/100\n",
      "60000/60000 [==============================] - 1s 11us/step - loss: 0.1837 - val_loss: 0.1789\n",
      "Epoch 9/100\n",
      "60000/60000 [==============================] - 1s 11us/step - loss: 0.1779 - val_loss: 0.1737\n",
      "Epoch 10/100\n",
      "60000/60000 [==============================] - 1s 11us/step - loss: 0.1728 - val_loss: 0.1689\n",
      "Epoch 11/100\n",
      "60000/60000 [==============================] - 1s 11us/step - loss: 0.1683 - val_loss: 0.1645\n",
      "Epoch 12/100\n",
      "60000/60000 [==============================] - 1s 11us/step - loss: 0.1641 - val_loss: 0.1605\n",
      "Epoch 13/100\n",
      "60000/60000 [==============================] - 1s 11us/step - loss: 0.1603 - val_loss: 0.1570\n",
      "Epoch 14/100\n",
      "60000/60000 [==============================] - 1s 11us/step - loss: 0.1568 - val_loss: 0.1535\n",
      "Epoch 15/100\n",
      "60000/60000 [==============================] - 1s 11us/step - loss: 0.1536 - val_loss: 0.1505\n",
      "Epoch 16/100\n",
      "60000/60000 [==============================] - 1s 11us/step - loss: 0.1506 - val_loss: 0.1477\n",
      "Epoch 17/100\n",
      "60000/60000 [==============================] - 1s 11us/step - loss: 0.1479 - val_loss: 0.1450\n",
      "Epoch 18/100\n",
      "60000/60000 [==============================] - 1s 11us/step - loss: 0.1454 - val_loss: 0.1426\n",
      "Epoch 19/100\n",
      "60000/60000 [==============================] - 1s 11us/step - loss: 0.1430 - val_loss: 0.1402\n",
      "Epoch 20/100\n",
      "60000/60000 [==============================] - 1s 11us/step - loss: 0.1407 - val_loss: 0.1381\n",
      "Epoch 21/100\n",
      "60000/60000 [==============================] - 1s 11us/step - loss: 0.1387 - val_loss: 0.1360\n",
      "Epoch 22/100\n",
      "60000/60000 [==============================] - 1s 11us/step - loss: 0.1367 - val_loss: 0.1342\n",
      "Epoch 23/100\n",
      "60000/60000 [==============================] - 1s 11us/step - loss: 0.1348 - val_loss: 0.1323\n",
      "Epoch 24/100\n",
      "60000/60000 [==============================] - 1s 11us/step - loss: 0.1330 - val_loss: 0.1305\n",
      "Epoch 25/100\n",
      "60000/60000 [==============================] - 1s 11us/step - loss: 0.1313 - val_loss: 0.1289\n",
      "Epoch 26/100\n",
      "60000/60000 [==============================] - 1s 11us/step - loss: 0.1297 - val_loss: 0.1272\n",
      "Epoch 27/100\n",
      "60000/60000 [==============================] - 1s 11us/step - loss: 0.1282 - val_loss: 0.1258\n",
      "Epoch 28/100\n",
      "60000/60000 [==============================] - 1s 11us/step - loss: 0.1268 - val_loss: 0.1244\n",
      "Epoch 29/100\n",
      "60000/60000 [==============================] - 1s 11us/step - loss: 0.1254 - val_loss: 0.1232\n",
      "Epoch 30/100\n",
      "60000/60000 [==============================] - 1s 11us/step - loss: 0.1242 - val_loss: 0.1219\n",
      "Epoch 31/100\n",
      "60000/60000 [==============================] - 1s 11us/step - loss: 0.1230 - val_loss: 0.1208\n",
      "Epoch 32/100\n",
      "60000/60000 [==============================] - 1s 11us/step - loss: 0.1219 - val_loss: 0.1198\n",
      "Epoch 33/100\n",
      "60000/60000 [==============================] - 1s 11us/step - loss: 0.1209 - val_loss: 0.1188\n",
      "Epoch 34/100\n",
      "60000/60000 [==============================] - 1s 11us/step - loss: 0.1200 - val_loss: 0.1179\n",
      "Epoch 35/100\n",
      "60000/60000 [==============================] - 1s 11us/step - loss: 0.1191 - val_loss: 0.1170\n",
      "Epoch 36/100\n",
      "60000/60000 [==============================] - 1s 11us/step - loss: 0.1183 - val_loss: 0.1162\n",
      "Epoch 37/100\n",
      "60000/60000 [==============================] - 1s 11us/step - loss: 0.1175 - val_loss: 0.1155\n",
      "Epoch 38/100\n",
      "60000/60000 [==============================] - 1s 11us/step - loss: 0.1168 - val_loss: 0.1148\n",
      "Epoch 39/100\n",
      "60000/60000 [==============================] - 1s 11us/step - loss: 0.1161 - val_loss: 0.1141\n",
      "Epoch 40/100\n",
      "60000/60000 [==============================] - 1s 11us/step - loss: 0.1154 - val_loss: 0.1135\n",
      "Epoch 41/100\n",
      "60000/60000 [==============================] - 1s 11us/step - loss: 0.1148 - val_loss: 0.1129\n",
      "Epoch 42/100\n",
      "60000/60000 [==============================] - 1s 11us/step - loss: 0.1142 - val_loss: 0.1123\n",
      "Epoch 43/100\n",
      "60000/60000 [==============================] - 1s 10us/step - loss: 0.1137 - val_loss: 0.1118\n",
      "Epoch 44/100\n",
      "60000/60000 [==============================] - 1s 11us/step - loss: 0.1132 - val_loss: 0.1113\n",
      "Epoch 45/100\n",
      "60000/60000 [==============================] - 1s 11us/step - loss: 0.1127 - val_loss: 0.1108\n",
      "Epoch 46/100\n",
      "60000/60000 [==============================] - 1s 10us/step - loss: 0.1122 - val_loss: 0.1104\n",
      "Epoch 47/100\n",
      "60000/60000 [==============================] - 1s 11us/step - loss: 0.1117 - val_loss: 0.1099\n",
      "Epoch 48/100\n",
      "60000/60000 [==============================] - 1s 10us/step - loss: 0.1113 - val_loss: 0.1095\n",
      "Epoch 49/100\n",
      "60000/60000 [==============================] - 1s 10us/step - loss: 0.1109 - val_loss: 0.1091\n",
      "Epoch 50/100\n",
      "60000/60000 [==============================] - 1s 11us/step - loss: 0.1105 - val_loss: 0.1087\n",
      "Epoch 51/100\n",
      "60000/60000 [==============================] - 1s 11us/step - loss: 0.1101 - val_loss: 0.1083\n",
      "Epoch 52/100\n",
      "60000/60000 [==============================] - 1s 11us/step - loss: 0.1098 - val_loss: 0.1080\n",
      "Epoch 53/100\n",
      "60000/60000 [==============================] - 1s 11us/step - loss: 0.1094 - val_loss: 0.1077\n",
      "Epoch 54/100\n",
      "60000/60000 [==============================] - 1s 11us/step - loss: 0.1091 - val_loss: 0.1074\n",
      "Epoch 55/100\n",
      "60000/60000 [==============================] - 1s 11us/step - loss: 0.1088 - val_loss: 0.1071\n",
      "Epoch 56/100\n",
      "60000/60000 [==============================] - 1s 11us/step - loss: 0.1085 - val_loss: 0.1068\n",
      "Epoch 57/100\n",
      "60000/60000 [==============================] - 1s 11us/step - loss: 0.1082 - val_loss: 0.1065\n",
      "Epoch 58/100\n",
      "60000/60000 [==============================] - 1s 11us/step - loss: 0.1079 - val_loss: 0.1063\n",
      "Epoch 59/100\n",
      "60000/60000 [==============================] - 1s 11us/step - loss: 0.1077 - val_loss: 0.1060\n",
      "Epoch 60/100\n",
      "60000/60000 [==============================] - 1s 11us/step - loss: 0.1074 - val_loss: 0.1058\n",
      "Epoch 61/100\n",
      "60000/60000 [==============================] - 1s 11us/step - loss: 0.1072 - val_loss: 0.1056\n",
      "Epoch 62/100\n",
      "60000/60000 [==============================] - 1s 11us/step - loss: 0.1070 - val_loss: 0.1054\n",
      "Epoch 63/100\n",
      "60000/60000 [==============================] - 1s 11us/step - loss: 0.1068 - val_loss: 0.1052\n",
      "Epoch 64/100\n",
      "60000/60000 [==============================] - 1s 10us/step - loss: 0.1066 - val_loss: 0.1050\n",
      "Epoch 65/100\n",
      "60000/60000 [==============================] - 1s 11us/step - loss: 0.1064 - val_loss: 0.1048\n",
      "Epoch 66/100\n",
      "60000/60000 [==============================] - 1s 11us/step - loss: 0.1062 - val_loss: 0.1046\n",
      "Epoch 67/100\n",
      "60000/60000 [==============================] - 1s 11us/step - loss: 0.1060 - val_loss: 0.1045\n",
      "Epoch 68/100\n",
      "60000/60000 [==============================] - 1s 11us/step - loss: 0.1059 - val_loss: 0.1043\n",
      "Epoch 69/100\n",
      "60000/60000 [==============================] - 1s 11us/step - loss: 0.1057 - val_loss: 0.1042\n",
      "Epoch 70/100\n",
      "60000/60000 [==============================] - 1s 11us/step - loss: 0.1056 - val_loss: 0.1040\n",
      "Epoch 71/100\n",
      "60000/60000 [==============================] - 1s 11us/step - loss: 0.1054 - val_loss: 0.1039\n",
      "Epoch 72/100\n",
      "60000/60000 [==============================] - 1s 11us/step - loss: 0.1053 - val_loss: 0.1038\n",
      "Epoch 73/100\n",
      "60000/60000 [==============================] - 1s 11us/step - loss: 0.1052 - val_loss: 0.1036\n",
      "Epoch 74/100\n",
      "60000/60000 [==============================] - 1s 11us/step - loss: 0.1051 - val_loss: 0.1035\n",
      "Epoch 75/100\n",
      "60000/60000 [==============================] - 1s 11us/step - loss: 0.1050 - val_loss: 0.1034\n",
      "Epoch 76/100\n",
      "60000/60000 [==============================] - 1s 11us/step - loss: 0.1048 - val_loss: 0.1033\n",
      "Epoch 77/100\n",
      "60000/60000 [==============================] - 1s 11us/step - loss: 0.1047 - val_loss: 0.1032\n",
      "Epoch 78/100\n",
      "60000/60000 [==============================] - 1s 11us/step - loss: 0.1046 - val_loss: 0.1031\n",
      "Epoch 79/100\n",
      "60000/60000 [==============================] - 1s 11us/step - loss: 0.1046 - val_loss: 0.1030\n",
      "Epoch 80/100\n",
      "60000/60000 [==============================] - 1s 11us/step - loss: 0.1045 - val_loss: 0.1029\n",
      "Epoch 81/100\n",
      "60000/60000 [==============================] - 1s 11us/step - loss: 0.1044 - val_loss: 0.1029\n",
      "Epoch 82/100\n",
      "60000/60000 [==============================] - 1s 11us/step - loss: 0.1043 - val_loss: 0.1028\n",
      "Epoch 83/100\n",
      "60000/60000 [==============================] - 1s 11us/step - loss: 0.1042 - val_loss: 0.1027\n",
      "Epoch 84/100\n",
      "60000/60000 [==============================] - 1s 11us/step - loss: 0.1041 - val_loss: 0.1026\n",
      "Epoch 85/100\n",
      "60000/60000 [==============================] - 1s 11us/step - loss: 0.1041 - val_loss: 0.1026\n",
      "Epoch 86/100\n",
      "60000/60000 [==============================] - 1s 11us/step - loss: 0.1040 - val_loss: 0.1025\n",
      "Epoch 87/100\n",
      "60000/60000 [==============================] - 1s 11us/step - loss: 0.1039 - val_loss: 0.1024\n",
      "Epoch 88/100\n",
      "60000/60000 [==============================] - 1s 11us/step - loss: 0.1038 - val_loss: 0.1024\n",
      "Epoch 89/100\n",
      "60000/60000 [==============================] - 1s 11us/step - loss: 0.1038 - val_loss: 0.1023\n",
      "Epoch 90/100\n",
      "60000/60000 [==============================] - 1s 11us/step - loss: 0.1037 - val_loss: 0.1022\n",
      "Epoch 91/100\n",
      "60000/60000 [==============================] - 1s 11us/step - loss: 0.1037 - val_loss: 0.1022\n",
      "Epoch 92/100\n",
      "60000/60000 [==============================] - 1s 11us/step - loss: 0.1036 - val_loss: 0.1021\n",
      "Epoch 93/100\n",
      "60000/60000 [==============================] - 1s 11us/step - loss: 0.1035 - val_loss: 0.1021\n",
      "Epoch 94/100\n",
      "60000/60000 [==============================] - 1s 11us/step - loss: 0.1035 - val_loss: 0.1020\n",
      "Epoch 95/100\n",
      "60000/60000 [==============================] - 1s 11us/step - loss: 0.1034 - val_loss: 0.1020\n",
      "Epoch 96/100\n",
      "60000/60000 [==============================] - 1s 10us/step - loss: 0.1034 - val_loss: 0.1019\n",
      "Epoch 97/100\n",
      "60000/60000 [==============================] - 1s 10us/step - loss: 0.1033 - val_loss: 0.1019\n",
      "Epoch 98/100\n",
      "60000/60000 [==============================] - 1s 10us/step - loss: 0.1033 - val_loss: 0.1018\n",
      "Epoch 99/100\n",
      "60000/60000 [==============================] - 1s 10us/step - loss: 0.1032 - val_loss: 0.1018\n",
      "Epoch 100/100\n",
      "60000/60000 [==============================] - 1s 11us/step - loss: 0.1032 - val_loss: 0.1017\n"
     ]
    },
    {
     "data": {
      "text/plain": [
       "<keras.callbacks.callbacks.History at 0x7f3cb808bf98>"
      ]
     },
     "execution_count": 9,
     "metadata": {},
     "output_type": "execute_result"
    }
   ],
   "source": [
    "autoencoder.fit(x_train,x_train,\n",
    "               epochs = 100,\n",
    "               batch_size=256,\n",
    "               shuffle=True,\n",
    "               validation_data=(x_test,x_test))"
   ]
  },
  {
   "cell_type": "code",
   "execution_count": 10,
   "metadata": {},
   "outputs": [],
   "source": [
    "#encode and decode some digits\n",
    "\n",
    "encoded_imgs = encoder.predict(x_test)\n",
    "decoded_imgs = decoder.predict(encoded_imgs)"
   ]
  },
  {
   "cell_type": "markdown",
   "metadata": {},
   "source": [
    "<h3> Display Results </h3>"
   ]
  },
  {
   "cell_type": "code",
   "execution_count": 11,
   "metadata": {},
   "outputs": [
    {
     "data": {
      "image/png": "[encoded data removed]",
      "text/plain": [
       "<Figure size 1440x288 with 20 Axes>"
      ]
     },
     "metadata": {
      "needs_background": "light"
     },
     "output_type": "display_data"
    }
   ],
   "source": [
    "\n",
    "n=10 #how mnay digits we want to display\n",
    "plt.figure(figsize=(20,4))\n",
    "\n",
    "for i in range(n):\n",
    "    ax = plt.subplot(2,n,i+1)\n",
    "    plt.imshow(x_test[i].reshape(28,28))\n",
    "    plt.gray()\n",
    "    \n",
    "    ax.get_xaxis().set_visible(False)\n",
    "    ax.get_yaxis().set_visible(False)\n",
    "    \n",
    "    #to display reconstruction\n",
    "    ax = plt.subplot(2,n,i+1+n)\n",
    "    plt.imshow(decoded_imgs[i].reshape(28,28))\n",
    "    plt.gray()\n",
    "    \n",
    "    ax.get_xaxis().set_visible(False)\n",
    "    ax.get_yaxis().set_visible(False)\n",
    "\n",
    "plt.show() # got better results with l1 = 10e-8"
   ]
  },
  {
   "cell_type": "markdown",
   "metadata": {},
   "source": [
    "<h3> Denoising Autoencoder </h3>\n",
    "\n",
    "<h4> Prepare Input data </h4>"
   ]
  },
  {
   "cell_type": "code",
   "execution_count": 12,
   "metadata": {},
   "outputs": [],
   "source": [
    "from keras.datasets import mnist\n",
    "import numpy as np\n",
    "(x_train, _), (x_test, _) = mnist.load_data()"
   ]
  },
  {
   "cell_type": "markdown",
   "metadata": {},
   "source": [
    "<h4> Normalizing data and Reshape </h4>"
   ]
  },
  {
   "cell_type": "code",
   "execution_count": 13,
   "metadata": {},
   "outputs": [],
   "source": [
    "x_train = x_train.astype('float32') / 255.\n",
    "x_test = x_test.astype('float32') / 255.\n",
    "x_train = np.reshape(x_train, (len(x_train), 28, 28, 1))\n",
    "x_test = np.reshape(x_test, (len(x_test), 28, 28, 1))"
   ]
  },
  {
   "cell_type": "markdown",
   "metadata": {},
   "source": [
    "<h4> Adding Noise factor </h4>"
   ]
  },
  {
   "cell_type": "code",
   "execution_count": 14,
   "metadata": {},
   "outputs": [],
   "source": [
    "noise_factor = 0.5 # 50% noise\n",
    "x_train_noisy = x_train + noise_factor * np.random.normal(loc=0.0, scale=1.0, size=x_train.shape)\n",
    "x_test_noisy = x_test + noise_factor * np.random.normal(loc=0.0, scale=1.0, size=x_test.shape)\n",
    "\n",
    "#clipping - having values between 0,1\n",
    "\n",
    "x_train_noisy = np.clip(x_train_noisy, 0., 1.)\n",
    "x_test_noisy = np.clip(x_test_noisy, 0., 1.)"
   ]
  },
  {
   "cell_type": "markdown",
   "metadata": {},
   "source": [
    "<h4> Plotting Noisy Data </h4>"
   ]
  },
  {
   "cell_type": "code",
   "execution_count": 16,
   "metadata": {},
   "outputs": [
    {
     "data": {
      "image/png": "[encoded data removed]",
      "text/plain": [
       "<Figure size 1440x144 with 10 Axes>"
      ]
     },
     "metadata": {
      "needs_background": "light"
     },
     "output_type": "display_data"
    }
   ],
   "source": [
    "n = 10\n",
    "plt.figure(figsize=(20, 2))\n",
    "for i in range(n):\n",
    "    ax = plt.subplot(1, n, i + 1)\n",
    "    \n",
    "    plt.imshow(x_test_noisy[i].reshape(28, 28))\n",
    "    plt.gray()\n",
    "    \n",
    "    ax.get_xaxis().set_visible(False)\n",
    "    ax.get_yaxis().set_visible(False)\n",
    "plt.show()"
   ]
  },
  {
   "cell_type": "markdown",
   "metadata": {},
   "source": [
    "<h4> Configure Autoencoder </h4>"
   ]
  },
  {
   "cell_type": "code",
   "execution_count": 21,
   "metadata": {},
   "outputs": [],
   "source": [
    "input_img = tf.keras.layers.Input(shape=(28,28,1))\n",
    "\n",
    "# encoded part\n",
    "x = tf.keras.layers.Conv2D(32,(3,3),activation='relu',padding='same')(input_img) #kernal = 32, size = 3 x 3 \n",
    "x = tf.keras.layers.MaxPooling2D((2,2),padding='same')(x) #maxpooling filter of 2 x 2\n",
    "x = tf.keras.layers.Conv2D(32,(3,3),activation='relu',padding='same')(x)\n",
    "\n",
    "encoded = tf.keras.layers.MaxPool2D((2,2),padding='same')(x) #the representation is (7,7,32)\n",
    "\n",
    "#decoded part\n",
    "\n",
    "x = tf.keras.layers.Conv2D(32,(3,3),activation='relu',padding='same')(encoded)\n",
    "x = tf.keras.layers.UpSampling2D((2,2))(x) #upsamples images increases the dimensions\n",
    "x = tf.keras.layers.Conv2D(32,(3,3),activation='relu',padding='same')(x)\n",
    "x = tf.keras.layers.UpSampling2D((2,2))(x)\n",
    "\n",
    "decoded = tf.keras.layers.Conv2D(1,(3,3),activation='sigmoid',padding='same')(x)\n",
    "\n",
    "autoencoder = tf.keras.models.Model(input_img,decoded)\n",
    "autoencoder.compile(optimizer='adadelta',loss='binary_crossentropy')"
   ]
  },
  {
   "cell_type": "code",
   "execution_count": 26,
   "metadata": {},
   "outputs": [
    {
     "name": "stdout",
     "output_type": "stream",
     "text": [
      "Train on 60000 samples, validate on 10000 samples\n",
      "Epoch 1/20\n",
      "60000/60000 [==============================] - 3s 47us/sample - loss: 0.1445 - val_loss: 0.1430\n",
      "Epoch 2/20\n",
      "60000/60000 [==============================] - 3s 45us/sample - loss: 0.1442 - val_loss: 0.1427\n",
      "Epoch 3/20\n",
      "60000/60000 [==============================] - 3s 45us/sample - loss: 0.1440 - val_loss: 0.1424\n",
      "Epoch 4/20\n",
      "60000/60000 [==============================] - 3s 45us/sample - loss: 0.1437 - val_loss: 0.1422\n",
      "Epoch 5/20\n",
      "60000/60000 [==============================] - 3s 45us/sample - loss: 0.1434 - val_loss: 0.1419\n",
      "Epoch 6/20\n",
      "60000/60000 [==============================] - 3s 45us/sample - loss: 0.1432 - val_loss: 0.1416\n",
      "Epoch 7/20\n",
      "60000/60000 [==============================] - 3s 45us/sample - loss: 0.1429 - val_loss: 0.1413\n",
      "Epoch 8/20\n",
      "60000/60000 [==============================] - 3s 45us/sample - loss: 0.1426 - val_loss: 0.1411\n",
      "Epoch 9/20\n",
      "60000/60000 [==============================] - 3s 45us/sample - loss: 0.1424 - val_loss: 0.1408\n",
      "Epoch 10/20\n",
      "60000/60000 [==============================] - 3s 45us/sample - loss: 0.1421 - val_loss: 0.1406\n",
      "Epoch 11/20\n",
      "60000/60000 [==============================] - 3s 45us/sample - loss: 0.1419 - val_loss: 0.1403\n",
      "Epoch 12/20\n",
      "60000/60000 [==============================] - 3s 45us/sample - loss: 0.1416 - val_loss: 0.1401\n",
      "Epoch 13/20\n",
      "60000/60000 [==============================] - 3s 45us/sample - loss: 0.1414 - val_loss: 0.1398\n",
      "Epoch 14/20\n",
      "60000/60000 [==============================] - 3s 45us/sample - loss: 0.1411 - val_loss: 0.1396\n",
      "Epoch 15/20\n",
      "60000/60000 [==============================] - 3s 45us/sample - loss: 0.1409 - val_loss: 0.1393\n",
      "Epoch 16/20\n",
      "60000/60000 [==============================] - 3s 45us/sample - loss: 0.1407 - val_loss: 0.1391\n",
      "Epoch 17/20\n",
      "60000/60000 [==============================] - 3s 45us/sample - loss: 0.1404 - val_loss: 0.1389\n",
      "Epoch 18/20\n",
      "60000/60000 [==============================] - 3s 45us/sample - loss: 0.1402 - val_loss: 0.1387\n",
      "Epoch 19/20\n",
      "60000/60000 [==============================] - 3s 45us/sample - loss: 0.1400 - val_loss: 0.1385\n",
      "Epoch 20/20\n",
      "60000/60000 [==============================] - 3s 45us/sample - loss: 0.1398 - val_loss: 0.1382\n"
     ]
    },
    {
     "data": {
      "text/plain": [
       "<tensorflow.python.keras.callbacks.History at 0x7f3c0a2ea940>"
      ]
     },
     "execution_count": 26,
     "metadata": {},
     "output_type": "execute_result"
    }
   ],
   "source": [
    "autoencoder.fit(x_train_noisy, x_train,\n",
    "epochs=20, # for better result take it as 100\n",
    "batch_size=128,\n",
    "shuffle=True,\n",
    "validation_data=(x_test_noisy, x_test))"
   ]
  },
  {
   "cell_type": "code",
   "execution_count": 27,
   "metadata": {},
   "outputs": [],
   "source": [
    "decoded_imgs = autoencoder.predict(x_test)"
   ]
  },
  {
   "cell_type": "code",
   "execution_count": 28,
   "metadata": {},
   "outputs": [
    {
     "data": {
      "image/png": "[encoded data removed]",
      "text/plain": [
       "<Figure size 1440x288 with 20 Axes>"
      ]
     },
     "metadata": {
      "needs_background": "light"
     },
     "output_type": "display_data"
    }
   ],
   "source": [
    "n = 10\n",
    "plt.figure(figsize=(20, 4))\n",
    "for i in range(n):\n",
    "    ax = plt.subplot(2,n,i+1)\n",
    "    plt.imshow(x_test_noisy[i].reshape(28, 28))\n",
    "    plt.gray()\n",
    "    \n",
    "    ax.get_xaxis().set_visible(False)\n",
    "    ax.get_yaxis().set_visible(False)\n",
    "    \n",
    "    #to display reconstruction\n",
    "    ax = plt.subplot(2,n,i+1+n)\n",
    "    plt.imshow(decoded_imgs[i].reshape(28,28))\n",
    "    plt.gray()\n",
    "    \n",
    "    ax.get_xaxis().set_visible(False)\n",
    "    ax.get_yaxis().set_visible(False)\n",
    "plt.show()"
   ]
  },
  {
   "cell_type": "code",
   "execution_count": null,
   "metadata": {},
   "outputs": [],
   "source": []
  }
 ],
 "metadata": {
  "instance_type": "ml.g4dn.xlarge",
  "kernelspec": {
   "display_name": "Python 3 (TensorFlow 2 GPU Optimized)",
   "language": "python",
   "name": "python3__SAGEMAKER_INTERNAL__arn:aws:sagemaker:us-east-1:081325390199:image/tensorflow-2.1-gpu-py36"
  },
  "language_info": {
   "codemirror_mode": {
    "name": "ipython",
    "version": 3
   },
   "file_extension": ".py",
   "mimetype": "text/x-python",
   "name": "python",
   "nbconvert_exporter": "python",
   "pygments_lexer": "ipython3",
   "version": "3.6.9"
  }
 },
 "nbformat": 4,
 "nbformat_minor": 4
}
